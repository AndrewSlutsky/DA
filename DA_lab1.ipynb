{
  "nbformat": 4,
  "nbformat_minor": 0,
  "metadata": {
    "colab": {
      "name": "Unt.ipynb",
      "provenance": [],
      "collapsed_sections": [],
      "authorship_tag": "ABX9TyPRSRu9/HThyG690aiYdp4Q",
      "include_colab_link": true
    },
    "kernelspec": {
      "name": "python3",
      "display_name": "Python 3"
    },
    "language_info": {
      "name": "python"
    }
  },
  "cells": [
    {
      "cell_type": "markdown",
      "metadata": {
        "id": "view-in-github",
        "colab_type": "text"
      },
      "source": [
        "<a href=\"https://colab.research.google.com/github/AndrewSlutsky/DA/blob/main/DA_lab1.ipynb\" target=\"_parent\"><img src=\"https://colab.research.google.com/assets/colab-badge.svg\" alt=\"Open In Colab\"/></a>"
      ]
    },
    {
      "cell_type": "code",
      "metadata": {
        "id": "exCKzD-OcpM9"
      },
      "source": [
        "import pandas as pd\n",
        "import numpy as np\n",
        "import matplotlib.pyplot as plt\n",
        "from sklearn.metrics import accuracy_score"
      ],
      "execution_count": 139,
      "outputs": []
    },
    {
      "cell_type": "markdown",
      "metadata": {
        "id": "JojmKzDgmSpt"
      },
      "source": [
        "Генерація даних "
      ]
    },
    {
      "cell_type": "code",
      "metadata": {
        "id": "tdG6kLUYfCKT"
      },
      "source": [
        "np.random.seed(0)\n",
        "num_points = 100\n",
        "a = 2\n",
        "b = 8\n",
        "noise = np.random.normal(0, 1, num_points)\n",
        "x = np.random.uniform(0, 5, num_points)\n",
        "y = a * x + b + noise"
      ],
      "execution_count": 140,
      "outputs": []
    },
    {
      "cell_type": "code",
      "metadata": {
        "colab": {
          "base_uri": "https://localhost:8080/",
          "height": 282
        },
        "id": "XnrJ7u28iD8a",
        "outputId": "10e97408-11a6-48ed-eabb-ebe955a2b90b"
      },
      "source": [
        "plt.scatter(x, y, marker = '.', color = 'r')\n",
        "plt.plot()\n",
        "plt.plot(x, a * x + b)"
      ],
      "execution_count": 141,
      "outputs": [
        {
          "output_type": "execute_result",
          "data": {
            "text/plain": [
              "[<matplotlib.lines.Line2D at 0x7fb83b8561d0>]"
            ]
          },
          "metadata": {},
          "execution_count": 141
        },
        {
          "output_type": "display_data",
          "data": {
            "image/png": "[encoded data removed]",
            "text/plain": [
              "<Figure size 432x288 with 1 Axes>"
            ]
          },
          "metadata": {
            "needs_background": "light"
          }
        }
      ]
    },
    {
      "cell_type": "code",
      "metadata": {
        "id": "WPT9kwZkiLx2"
      },
      "source": [
        "x = np.resize(x, (2, 100))\n",
        "x[0] = 1"
      ],
      "execution_count": 142,
      "outputs": []
    },
    {
      "cell_type": "markdown",
      "metadata": {
        "id": "Lm_mKCs5mc04"
      },
      "source": [
        "Realisation cost function for linear regression"
      ]
    },
    {
      "cell_type": "code",
      "metadata": {
        "id": "6RlNmgb0-213"
      },
      "source": [
        "def cost_f(m, h_x, y):\n",
        "  return np.sum((h_x - y)**2)/(2*m)"
      ],
      "execution_count": 143,
      "outputs": []
    },
    {
      "cell_type": "markdown",
      "metadata": {
        "id": "arbBFTTynmZq"
      },
      "source": [
        "calculating gradient of cost function"
      ]
    },
    {
      "cell_type": "code",
      "metadata": {
        "id": "-F2dV8eg8BJB"
      },
      "source": [
        "def nabla_j(m, h_x, y, x):\n",
        "  j = np.zeros(2)\n",
        "  temp = 0;\n",
        "  j[0] = np.sum((h_x-y))/m\n",
        "  for i in range(m):\n",
        "    temp +=(h_x[i] - y[i])*x[1][i]\n",
        "  j[1] = temp/m\n",
        "  return j\n"
      ],
      "execution_count": 144,
      "outputs": []
    },
    {
      "cell_type": "code",
      "metadata": {
        "id": "4jWzBOM7_6Wn"
      },
      "source": [
        "def h(x, theta):\n",
        "  return theta.dot(x)"
      ],
      "execution_count": 145,
      "outputs": []
    },
    {
      "cell_type": "markdown",
      "metadata": {
        "id": "4TJ4cHeeoMUm"
      },
      "source": [
        "finding arg min of cost function and printing the theta "
      ]
    },
    {
      "cell_type": "code",
      "metadata": {
        "colab": {
          "base_uri": "https://localhost:8080/"
        },
        "id": "lHzV_e1nHunt",
        "outputId": "18c69915-3fa8-4f07-c7a7-c20563108661"
      },
      "source": [
        "alpha = 0.1\n",
        "m = 100\n",
        "theta = np.zeros(2)\n",
        "i = 1000\n",
        "J = cost_f(m, h(x, theta), y)\n",
        "while i > 0:\n",
        "  theta = theta - alpha * nabla_j(m, h(x, theta), y, x)\n",
        "  J = cost_f(m, h(x, theta), y)\n",
        "  i -= 1\n",
        "print(J)\n",
        "print(theta)"
      ],
      "execution_count": 146,
      "outputs": [
        {
          "output_type": "stream",
          "name": "stdout",
          "text": [
            "0.5076770064825231\n",
            "[8.09772262 1.98467056]\n"
          ]
        }
      ]
    },
    {
      "cell_type": "markdown",
      "metadata": {
        "id": "_Ge6sQgnou6J"
      },
      "source": [
        "generation of date for logistic regression"
      ]
    },
    {
      "cell_type": "code",
      "metadata": {
        "id": "KUbX-pJ6O44F"
      },
      "source": [
        "mean_1 = [1, 2]\n",
        "cov_1 = [[1, 0], [0, 1]]\n",
        "x_1 = np.random.multivariate_normal(mean_1, cov_1, num_points)"
      ],
      "execution_count": 147,
      "outputs": []
    },
    {
      "cell_type": "code",
      "metadata": {
        "id": "3K6gipHEO8s8"
      },
      "source": [
        "mean_2 = [4, 5]\n",
        "cov_2 = [[2, 0], [0, 2]]\n",
        "x_2 = np.random.multivariate_normal(mean_2, cov_2, num_points)"
      ],
      "execution_count": 148,
      "outputs": []
    },
    {
      "cell_type": "code",
      "metadata": {
        "colab": {
          "base_uri": "https://localhost:8080/",
          "height": 282
        },
        "id": "aM0PVSG5TeCJ",
        "outputId": "577fe1b2-580f-4315-cc1a-d4bb30e29474"
      },
      "source": [
        "plt.scatter(x_1[:, 0], x_1[:, 1], marker = '^', color='coral')\n",
        "plt.scatter(x_2[:, 0], x_2[:, 1], marker = 'o', color='indigo')"
      ],
      "execution_count": 149,
      "outputs": [
        {
          "output_type": "execute_result",
          "data": {
            "text/plain": [
              "<matplotlib.collections.PathCollection at 0x7fb83b7c8290>"
            ]
          },
          "metadata": {},
          "execution_count": 149
        },
        {
          "output_type": "display_data",
          "data": {
            "image/png": "[encoded data removed]",
            "text/plain": [
              "<Figure size 432x288 with 1 Axes>"
            ]
          },
          "metadata": {
            "needs_background": "light"
          }
        }
      ]
    },
    {
      "cell_type": "markdown",
      "metadata": {
        "id": "OHeqhYJ_pBDC"
      },
      "source": [
        "sigmoid function"
      ]
    },
    {
      "cell_type": "code",
      "metadata": {
        "id": "vESimBOqTkyJ"
      },
      "source": [
        "def p(x, theta):\n",
        "  return 1/ (1 + np.exp(h(x, theta)))"
      ],
      "execution_count": 150,
      "outputs": []
    },
    {
      "cell_type": "markdown",
      "metadata": {
        "id": "g8VpnU41pbL-"
      },
      "source": [
        "cost func(logg loss)"
      ]
    },
    {
      "cell_type": "code",
      "metadata": {
        "id": "n9L612T5CHyt"
      },
      "source": [
        "def cost_f_log(m, p, y):\n",
        "  return np.sum(y*np.log(p) + (1 - y)* np.log(1-p))/(-1 * m)"
      ],
      "execution_count": 151,
      "outputs": []
    },
    {
      "cell_type": "markdown",
      "metadata": {
        "id": "iRrWuWwXpgR0"
      },
      "source": [
        "gradient for logg loss"
      ]
    },
    {
      "cell_type": "code",
      "metadata": {
        "id": "IElMzdZRDSeP"
      },
      "source": [
        "def nabla_f(m, p, y):\n",
        "  j = np.zeros(3)\n",
        "  temp = 0\n",
        "  j[0] = np.sum((y - p))/m\n",
        "  for i in range(m):\n",
        "    temp +=(y[i] - p[i])*x[1][i]\n",
        "  j[1] = temp/m\n",
        "  temp = 0\n",
        "  for i in range(m):\n",
        "    temp +=(y[i] - p[i])*x[2][i]\n",
        "  j[2] = temp/m\n",
        "  return j"
      ],
      "execution_count": 152,
      "outputs": []
    },
    {
      "cell_type": "markdown",
      "metadata": {
        "id": "Zyh35uM5pov7"
      },
      "source": [
        "prepare data"
      ]
    },
    {
      "cell_type": "code",
      "metadata": {
        "id": "OBVH72KwH21x"
      },
      "source": [
        "y = np.concatenate((np.zeros(100),np.ones(100)), axis=0)\n",
        "x = np.concatenate((x_1, x_2), axis=0)\n",
        "x = x.T\n",
        "x = np.resize(x, (3, 200))\n",
        "x[0] = 1"
      ],
      "execution_count": 153,
      "outputs": []
    },
    {
      "cell_type": "markdown",
      "metadata": {
        "id": "b1PabK4Pp3Tl"
      },
      "source": [
        "calculating cost func and finding theta"
      ]
    },
    {
      "cell_type": "code",
      "metadata": {
        "colab": {
          "base_uri": "https://localhost:8080/"
        },
        "id": "19fzKEGtEBCB",
        "outputId": "88c9590b-2344-4944-88e2-d4ec78b765d3"
      },
      "source": [
        "alpha = 0.01\n",
        "m = 200\n",
        "theta = np.zeros(3)\n",
        "i = 10000\n",
        "J = cost_f_log(m, p(x, theta), y)\n",
        "while i > 0:\n",
        "  theta = theta - alpha * nabla_f(m, p(x, theta), y)\n",
        "  J = cost_f_log(m, p(x, theta), y)\n",
        "  i -= 1\n",
        "print(J)\n",
        "print(theta)"
      ],
      "execution_count": 154,
      "outputs": [
        {
          "output_type": "stream",
          "name": "stdout",
          "text": [
            "0.08976201961847498\n",
            "[10.53286976 -2.13526524 -1.90483685]\n"
          ]
        }
      ]
    },
    {
      "cell_type": "markdown",
      "metadata": {
        "id": "VXHI_pLpqGUT"
      },
      "source": [
        "function for classification test"
      ]
    },
    {
      "cell_type": "code",
      "metadata": {
        "id": "IgI1AlIG6fSX"
      },
      "source": [
        "def test(x, theta):\n",
        "  ret = np.zeros(100)\n",
        "  for i in range(100):\n",
        "    temp = theta[0] + x[i][0]*theta[2] + x[i][1]*theta[1]\n",
        "    if temp > 0:\n",
        "      ret[i] = 0\n",
        "    else:\n",
        "      ret[i] = 1\n",
        "  return ret\n"
      ],
      "execution_count": 155,
      "outputs": []
    },
    {
      "cell_type": "code",
      "metadata": {
        "colab": {
          "base_uri": "https://localhost:8080/"
        },
        "id": "X2F15Tab7vx1",
        "outputId": "909df6e9-a808-4b89-e545-230bcf3aeb88"
      },
      "source": [
        "accuracy_score(np.zeros(100), test(x_1, theta))"
      ],
      "execution_count": 156,
      "outputs": [
        {
          "output_type": "execute_result",
          "data": {
            "text/plain": [
              "0.96"
            ]
          },
          "metadata": {},
          "execution_count": 156
        }
      ]
    },
    {
      "cell_type": "code",
      "metadata": {
        "colab": {
          "base_uri": "https://localhost:8080/"
        },
        "id": "o36wNsAJ8Ra-",
        "outputId": "8e345ef7-b629-4c7b-dc31-e0fe51d907bb"
      },
      "source": [
        "accuracy_score(np.ones(100), test(x_2, theta))"
      ],
      "execution_count": 157,
      "outputs": [
        {
          "output_type": "execute_result",
          "data": {
            "text/plain": [
              "0.96"
            ]
          },
          "metadata": {},
          "execution_count": 157
        }
      ]
    }
  ]
}