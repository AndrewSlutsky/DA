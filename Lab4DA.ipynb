{
  "nbformat": 4,
  "nbformat_minor": 0,
  "metadata": {
    "colab": {
      "name": "Lab4DA.ipynb",
      "provenance": [],
      "mount_file_id": "1Yvp9kKSN11Eu2554CxxzPdiIleuEZKIj",
      "authorship_tag": "ABX9TyNKNBasOcjtSJEdSntc41zE",
      "include_colab_link": true
    },
    "kernelspec": {
      "name": "python3",
      "display_name": "Python 3"
    },
    "language_info": {
      "name": "python"
    }
  },
  "cells": [
    {
      "cell_type": "markdown",
      "metadata": {
        "id": "view-in-github",
        "colab_type": "text"
      },
      "source": [
        "<a href=\"https://colab.research.google.com/github/AndrewSlutsky/DA/blob/main/Lab4DA.ipynb\" target=\"_parent\"><img src=\"https://colab.research.google.com/assets/colab-badge.svg\" alt=\"Open In Colab\"/></a>"
      ]
    },
    {
      "cell_type": "markdown",
      "source": [
        "# **Класифікація даних за допомогою повнозвязної нейромережі**\n"
      ],
      "metadata": {
        "id": "3nCz6dJiLfgH"
      }
    },
    {
      "cell_type": "code",
      "execution_count": 21,
      "metadata": {
        "id": "QymBsn9eLYQ5"
      },
      "outputs": [],
      "source": [
        "import numpy as np\n",
        "import pandas as pd\n",
        "import seaborn as sns\n",
        "import os\n",
        "import matplotlib.pyplot as plt\n",
        "\n",
        "from sklearn.model_selection import train_test_split\n",
        "from sklearn.preprocessing import MinMaxScaler\n",
        "\n",
        "import tensorflow as tf\n",
        "from tensorflow import keras\n",
        "from tensorflow.keras import layers\n",
        "from tensorflow.keras.models import Sequential\n",
        "from tensorflow.keras.wrappers.scikit_learn import KerasClassifier\n",
        "from sklearn.model_selection import StratifiedKFold\n",
        "from sklearn.model_selection import cross_val_score\n",
        "from tensorflow.keras.utils import to_categorical\n",
        "from cv2 import imread, resize"
      ]
    },
    {
      "cell_type": "code",
      "source": [
        "pulsar_data = pd.read_csv('pulsar_data_train.csv')\n",
        "\n",
        "pulsar_data[' Excess kurtosis of the integrated profile'].fillna(pulsar_data[' Excess kurtosis of the integrated profile'].mean(), inplace=True)\n",
        "pulsar_data[' Standard deviation of the DM-SNR curve'].fillna(pulsar_data[' Standard deviation of the DM-SNR curve'].mean(), inplace=True)\n",
        "pulsar_data[' Skewness of the DM-SNR curve'].fillna(pulsar_data[' Skewness of the DM-SNR curve'].mean(), inplace=True)\n",
        "\n"
      ],
      "metadata": {
        "id": "R-xCQWOIL_NU"
      },
      "execution_count": 21,
      "outputs": []
    },
    {
      "cell_type": "code",
      "source": [
        "X = pulsar_data.drop(['target_class'], axis=1)\n",
        "y = pulsar_data['target_class']\n",
        "\n",
        "X_train, X_test, y_train, y_test = train_test_split(X, y, test_size=0.20)\n",
        "print(X_train.shape)"
      ],
      "metadata": {
        "colab": {
          "base_uri": "https://localhost:8080/"
        },
        "id": "V7M8pCHKMMvj",
        "outputId": "9901fb30-faf9-446a-c160-b06ef7a48e5e"
      },
      "execution_count": 22,
      "outputs": [
        {
          "output_type": "stream",
          "name": "stdout",
          "text": [
            "(10022, 8)\n"
          ]
        }
      ]
    },
    {
      "cell_type": "code",
      "source": [
        "def create_model():\n",
        "\tmodel = Sequential()\n",
        "\tmodel.add(layers.Dense(12, input_dim=8, activation='relu'))\n",
        "\tmodel.add(layers.Dense(8, activation='relu'))\n",
        "\tmodel.add(layers.Dense(1, activation='sigmoid'))\n",
        "\tmodel.compile(loss='binary_crossentropy', optimizer='adam', metrics=['accuracy'])\n",
        "\treturn model"
      ],
      "metadata": {
        "id": "qqDuj8ECMNn-"
      },
      "execution_count": 23,
      "outputs": []
    },
    {
      "cell_type": "code",
      "source": [
        "model = KerasClassifier(build_fn=create_model, epochs=150, batch_size=10, verbose=0)\n",
        "model.fit(X_train, y_train)\n",
        "model.score(X_test, y_test)"
      ],
      "metadata": {
        "colab": {
          "base_uri": "https://localhost:8080/"
        },
        "id": "4cDSRvLjNwGV",
        "outputId": "f9158a45-2509-44d2-e1ad-f52b68eb06fc"
      },
      "execution_count": 24,
      "outputs": [
        {
          "output_type": "stream",
          "name": "stderr",
          "text": [
            "/usr/local/lib/python3.7/dist-packages/ipykernel_launcher.py:1: DeprecationWarning: KerasClassifier is deprecated, use Sci-Keras (https://github.com/adriangb/scikeras) instead.\n",
            "  \"\"\"Entry point for launching an IPython kernel.\n"
          ]
        },
        {
          "output_type": "execute_result",
          "data": {
            "text/plain": [
              "0.9792497754096985"
            ]
          },
          "metadata": {},
          "execution_count": 24
        }
      ]
    },
    {
      "cell_type": "markdown",
      "source": [
        "# **Класифікація зображень за допомогою згорткової нейромережі**\n"
      ],
      "metadata": {
        "id": "SH8h4C0yPl6W"
      }
    },
    {
      "cell_type": "code",
      "source": [
        "import numpy as np # linear algebra\n",
        "import pandas as pd # data processing, CSV file I/O (e.g. pd.read_csv)\n",
        "import seaborn as sns\n",
        "import matplotlib.pyplot as plt\n",
        "from sklearn.metrics import plot_confusion_matrix\n",
        "import tensorflow as tf\n",
        "from tensorflow import keras\n",
        "from tensorflow.keras.layers import *"
      ],
      "metadata": {
        "id": "e2bijwqIP0b-"
      },
      "execution_count": 8,
      "outputs": []
    },
    {
      "cell_type": "code",
      "source": [
        "image_size = (100, 100)\n",
        "batch = 32\n",
        "\n",
        "train = keras.preprocessing.image_dataset_from_directory(\n",
        "    '/content/drive/MyDrive/data science/Chess/',\n",
        "    validation_split=.2,\n",
        "    subset='training',\n",
        "    seed=42,\n",
        "    image_size=image_size,\n",
        "    batch_size=batch,\n",
        "    label_mode='categorical'\n",
        ")"
      ],
      "metadata": {
        "colab": {
          "base_uri": "https://localhost:8080/"
        },
        "id": "HUrtjLeqcAx6",
        "outputId": "dc88963e-c98f-4986-9faa-bad3b7be5377"
      },
      "execution_count": 9,
      "outputs": [
        {
          "output_type": "stream",
          "name": "stdout",
          "text": [
            "Found 552 files belonging to 6 classes.\n",
            "Using 442 files for training.\n"
          ]
        }
      ]
    },
    {
      "cell_type": "code",
      "source": [
        "validation = keras.preprocessing.image_dataset_from_directory(\n",
        "    '/content/drive/MyDrive/data science/Chess/',\n",
        "    validation_split=.2,\n",
        "    subset='validation',\n",
        "    seed=42,\n",
        "    image_size=image_size,\n",
        "    batch_size=batch,\n",
        "    label_mode='categorical'\n",
        ")"
      ],
      "metadata": {
        "colab": {
          "base_uri": "https://localhost:8080/"
        },
        "id": "Kx6SX03XcUkj",
        "outputId": "bf79080e-312c-4788-fa18-49744fe1d215"
      },
      "execution_count": 11,
      "outputs": [
        {
          "output_type": "stream",
          "name": "stdout",
          "text": [
            "Found 552 files belonging to 6 classes.\n",
            "Using 110 files for validation.\n"
          ]
        }
      ]
    },
    {
      "cell_type": "code",
      "source": [
        "input_shape = (image_size[0], image_size[1], 3)\n",
        "reg = keras.regularizers.l2(0.0005)\n",
        "\n",
        "model = keras.Sequential()\n",
        "model.add(Conv2D(32, (3, 3), padding=\"same\", activation=\"relu\", input_shape=image_size + (3,), kernel_regularizer=reg))\n",
        "model.add(MaxPooling2D(pool_size=(2, 2)))\n",
        "\n",
        "model.add(Conv2D(64, (3, 3), padding=\"same\", activation=\"relu\", kernel_regularizer=reg))\n",
        "model.add(MaxPooling2D(pool_size=(2, 2)))\n",
        "\n",
        "\n",
        "model.add(Conv2D(128, (3, 3), padding=\"same\", activation=\"relu\", kernel_regularizer=reg))\n",
        "model.add(MaxPooling2D(pool_size=(2, 2)))\n",
        "model.add(Dropout(0.25))\n",
        "\n",
        "model.add(Flatten())\n",
        "model.add(Dense(128, activation='relu'))\n",
        "model.add(BatchNormalization())\n",
        "model.add(Dropout(0.5))\n",
        "model.add(Dense(len(train.class_names), activation='softmax'))\n",
        "\n",
        "\n",
        "model.summary()"
      ],
      "metadata": {
        "colab": {
          "base_uri": "https://localhost:8080/"
        },
        "id": "eiJw_WJbfC73",
        "outputId": "42c795ed-ad71-4329-cadd-bfb512a26e4c"
      },
      "execution_count": 13,
      "outputs": [
        {
          "output_type": "stream",
          "name": "stdout",
          "text": [
            "Model: \"sequential_1\"\n",
            "_________________________________________________________________\n",
            " Layer (type)                Output Shape              Param #   \n",
            "=================================================================\n",
            " conv2d (Conv2D)             (None, 100, 100, 32)      896       \n",
            "                                                                 \n",
            " max_pooling2d (MaxPooling2D  (None, 50, 50, 32)       0         \n",
            " )                                                               \n",
            "                                                                 \n",
            " conv2d_1 (Conv2D)           (None, 50, 50, 64)        18496     \n",
            "                                                                 \n",
            " max_pooling2d_1 (MaxPooling  (None, 25, 25, 64)       0         \n",
            " 2D)                                                             \n",
            "                                                                 \n",
            " conv2d_2 (Conv2D)           (None, 25, 25, 128)       73856     \n",
            "                                                                 \n",
            " max_pooling2d_2 (MaxPooling  (None, 12, 12, 128)      0         \n",
            " 2D)                                                             \n",
            "                                                                 \n",
            " dropout (Dropout)           (None, 12, 12, 128)       0         \n",
            "                                                                 \n",
            " flatten (Flatten)           (None, 18432)             0         \n",
            "                                                                 \n",
            " dense (Dense)               (None, 128)               2359424   \n",
            "                                                                 \n",
            " batch_normalization (BatchN  (None, 128)              512       \n",
            " ormalization)                                                   \n",
            "                                                                 \n",
            " dropout_1 (Dropout)         (None, 128)               0         \n",
            "                                                                 \n",
            " dense_1 (Dense)             (None, 6)                 774       \n",
            "                                                                 \n",
            "=================================================================\n",
            "Total params: 2,453,958\n",
            "Trainable params: 2,453,702\n",
            "Non-trainable params: 256\n",
            "_________________________________________________________________\n"
          ]
        }
      ]
    },
    {
      "cell_type": "code",
      "source": [
        "model.compile(\n",
        "    loss=\"categorical_crossentropy\",\n",
        "    optimizer=\"adam\",\n",
        "    metrics=[\"accuracy\"]\n",
        ")\n",
        "\n",
        "epochs = 40\n",
        "model.fit(\n",
        "    train,\n",
        "    epochs=epochs,\n",
        "    validation_data=validation\n",
        ");"
      ],
      "metadata": {
        "colab": {
          "base_uri": "https://localhost:8080/"
        },
        "id": "M36jcHuzfTnu",
        "outputId": "006037fd-43a4-48e0-d8be-6dd14a6f642f"
      },
      "execution_count": 14,
      "outputs": [
        {
          "output_type": "stream",
          "name": "stdout",
          "text": [
            "Epoch 1/40\n",
            "14/14 [==============================] - 19s 948ms/step - loss: 2.3504 - accuracy: 0.1946 - val_loss: 8.6070 - val_accuracy: 0.2727\n",
            "Epoch 2/40\n",
            "14/14 [==============================] - 14s 793ms/step - loss: 2.0417 - accuracy: 0.2081 - val_loss: 3.6685 - val_accuracy: 0.2182\n",
            "Epoch 3/40\n",
            "14/14 [==============================] - 14s 835ms/step - loss: 2.0250 - accuracy: 0.2557 - val_loss: 5.2699 - val_accuracy: 0.1182\n",
            "Epoch 4/40\n",
            "14/14 [==============================] - 25s 1s/step - loss: 1.9886 - accuracy: 0.2670 - val_loss: 7.8102 - val_accuracy: 0.1091\n",
            "Epoch 5/40\n",
            "14/14 [==============================] - 14s 792ms/step - loss: 1.8261 - accuracy: 0.3213 - val_loss: 7.5051 - val_accuracy: 0.2364\n",
            "Epoch 6/40\n",
            "14/14 [==============================] - 14s 796ms/step - loss: 1.8342 - accuracy: 0.3100 - val_loss: 18.1651 - val_accuracy: 0.2455\n",
            "Epoch 7/40\n",
            "14/14 [==============================] - 13s 782ms/step - loss: 1.8296 - accuracy: 0.3213 - val_loss: 5.8023 - val_accuracy: 0.1182\n",
            "Epoch 8/40\n",
            "14/14 [==============================] - 13s 788ms/step - loss: 1.7298 - accuracy: 0.3552 - val_loss: 4.9116 - val_accuracy: 0.2636\n",
            "Epoch 9/40\n",
            "14/14 [==============================] - 13s 781ms/step - loss: 1.5538 - accuracy: 0.4525 - val_loss: 3.3977 - val_accuracy: 0.2273\n",
            "Epoch 10/40\n",
            "14/14 [==============================] - 14s 867ms/step - loss: 1.5151 - accuracy: 0.4276 - val_loss: 1.9807 - val_accuracy: 0.3182\n",
            "Epoch 11/40\n",
            "14/14 [==============================] - 15s 807ms/step - loss: 1.3958 - accuracy: 0.5113 - val_loss: 1.8405 - val_accuracy: 0.3545\n",
            "Epoch 12/40\n",
            "14/14 [==============================] - 14s 822ms/step - loss: 1.2466 - accuracy: 0.5520 - val_loss: 2.0198 - val_accuracy: 0.3091\n",
            "Epoch 13/40\n",
            "14/14 [==============================] - 13s 787ms/step - loss: 1.2902 - accuracy: 0.5611 - val_loss: 1.7635 - val_accuracy: 0.3182\n",
            "Epoch 14/40\n",
            "14/14 [==============================] - 15s 777ms/step - loss: 1.1994 - accuracy: 0.5973 - val_loss: 1.7456 - val_accuracy: 0.3182\n",
            "Epoch 15/40\n",
            "14/14 [==============================] - 13s 785ms/step - loss: 1.1788 - accuracy: 0.5837 - val_loss: 3.8806 - val_accuracy: 0.2545\n",
            "Epoch 16/40\n",
            "14/14 [==============================] - 13s 776ms/step - loss: 1.4341 - accuracy: 0.4774 - val_loss: 2.4291 - val_accuracy: 0.2545\n",
            "Epoch 17/40\n",
            "14/14 [==============================] - 13s 788ms/step - loss: 1.4238 - accuracy: 0.4344 - val_loss: 3.2238 - val_accuracy: 0.2364\n",
            "Epoch 18/40\n",
            "14/14 [==============================] - 13s 792ms/step - loss: 1.3060 - accuracy: 0.5385 - val_loss: 2.0139 - val_accuracy: 0.3545\n",
            "Epoch 19/40\n",
            "14/14 [==============================] - 14s 811ms/step - loss: 1.2805 - accuracy: 0.5747 - val_loss: 1.7360 - val_accuracy: 0.3545\n",
            "Epoch 20/40\n",
            "14/14 [==============================] - 13s 790ms/step - loss: 1.1777 - accuracy: 0.5679 - val_loss: 1.7100 - val_accuracy: 0.3364\n",
            "Epoch 21/40\n",
            "14/14 [==============================] - 13s 784ms/step - loss: 1.1042 - accuracy: 0.6471 - val_loss: 1.8888 - val_accuracy: 0.3727\n",
            "Epoch 22/40\n",
            "14/14 [==============================] - 13s 780ms/step - loss: 1.0651 - accuracy: 0.6199 - val_loss: 1.8394 - val_accuracy: 0.3273\n",
            "Epoch 23/40\n",
            "14/14 [==============================] - 14s 796ms/step - loss: 0.9717 - accuracy: 0.6946 - val_loss: 1.7294 - val_accuracy: 0.3364\n",
            "Epoch 24/40\n",
            "14/14 [==============================] - 15s 876ms/step - loss: 0.9783 - accuracy: 0.6674 - val_loss: 2.3634 - val_accuracy: 0.3000\n",
            "Epoch 25/40\n",
            "14/14 [==============================] - 21s 1s/step - loss: 0.8730 - accuracy: 0.7059 - val_loss: 2.0286 - val_accuracy: 0.3273\n",
            "Epoch 26/40\n",
            "14/14 [==============================] - 14s 794ms/step - loss: 0.8314 - accuracy: 0.7443 - val_loss: 1.7417 - val_accuracy: 0.4000\n",
            "Epoch 27/40\n",
            "14/14 [==============================] - 14s 792ms/step - loss: 0.8100 - accuracy: 0.7557 - val_loss: 1.9126 - val_accuracy: 0.3455\n",
            "Epoch 28/40\n",
            "14/14 [==============================] - 13s 789ms/step - loss: 0.7099 - accuracy: 0.7783 - val_loss: 1.6948 - val_accuracy: 0.4000\n",
            "Epoch 29/40\n",
            "14/14 [==============================] - 14s 804ms/step - loss: 0.6926 - accuracy: 0.7873 - val_loss: 1.7670 - val_accuracy: 0.4182\n",
            "Epoch 30/40\n",
            "14/14 [==============================] - 14s 793ms/step - loss: 0.6307 - accuracy: 0.8326 - val_loss: 1.7114 - val_accuracy: 0.4182\n",
            "Epoch 31/40\n",
            "14/14 [==============================] - 14s 794ms/step - loss: 0.6084 - accuracy: 0.8326 - val_loss: 1.6840 - val_accuracy: 0.4182\n",
            "Epoch 32/40\n",
            "14/14 [==============================] - 14s 793ms/step - loss: 0.6162 - accuracy: 0.8167 - val_loss: 1.6832 - val_accuracy: 0.4091\n",
            "Epoch 33/40\n",
            "14/14 [==============================] - 14s 798ms/step - loss: 0.5574 - accuracy: 0.8348 - val_loss: 1.7752 - val_accuracy: 0.4182\n",
            "Epoch 34/40\n",
            "14/14 [==============================] - 13s 784ms/step - loss: 0.5188 - accuracy: 0.8529 - val_loss: 1.7780 - val_accuracy: 0.4000\n",
            "Epoch 35/40\n",
            "14/14 [==============================] - 13s 783ms/step - loss: 0.4891 - accuracy: 0.8801 - val_loss: 1.7738 - val_accuracy: 0.4545\n",
            "Epoch 36/40\n",
            "14/14 [==============================] - 14s 804ms/step - loss: 0.4832 - accuracy: 0.8959 - val_loss: 1.6661 - val_accuracy: 0.4636\n",
            "Epoch 37/40\n",
            "14/14 [==============================] - 14s 798ms/step - loss: 0.4468 - accuracy: 0.8982 - val_loss: 1.7959 - val_accuracy: 0.4273\n",
            "Epoch 38/40\n",
            "14/14 [==============================] - 14s 798ms/step - loss: 0.4351 - accuracy: 0.9163 - val_loss: 2.8760 - val_accuracy: 0.3273\n",
            "Epoch 39/40\n",
            "14/14 [==============================] - 13s 783ms/step - loss: 0.3989 - accuracy: 0.9050 - val_loss: 1.8742 - val_accuracy: 0.4455\n",
            "Epoch 40/40\n",
            "14/14 [==============================] - 14s 800ms/step - loss: 0.4548 - accuracy: 0.8937 - val_loss: 2.8904 - val_accuracy: 0.3091\n"
          ]
        }
      ]
    },
    {
      "cell_type": "markdown",
      "source": [
        "# **Прогнозування значень часового ряду**\n"
      ],
      "metadata": {
        "id": "CNIwFGNYiNBO"
      }
    },
    {
      "cell_type": "code",
      "source": [
        "df = pd.read_csv('banknifty.csv')\n",
        "df.head(5)"
      ],
      "metadata": {
        "colab": {
          "base_uri": "https://localhost:8080/",
          "height": 206
        },
        "id": "uoFE0kwlkEdY",
        "outputId": "b646a9d1-ee78-4166-df28-f898e83dfebf"
      },
      "execution_count": 34,
      "outputs": [
        {
          "output_type": "execute_result",
          "data": {
            "text/html": [
              "\n",
              "  <div id=\"df-3e0a4631-0bbb-4a43-b163-f8c123b0e908\">\n",
              "    <div class=\"colab-df-container\">\n",
              "      <div>\n",
              "<style scoped>\n",
              "    .dataframe tbody tr th:only-of-type {\n",
              "        vertical-align: middle;\n",
              "    }\n",
              "\n",
              "    .dataframe tbody tr th {\n",
              "        vertical-align: top;\n",
              "    }\n",
              "\n",
              "    .dataframe thead th {\n",
              "        text-align: right;\n",
              "    }\n",
              "</style>\n",
              "<table border=\"1\" class=\"dataframe\">\n",
              "  <thead>\n",
              "    <tr style=\"text-align: right;\">\n",
              "      <th></th>\n",
              "      <th>index</th>\n",
              "      <th>date</th>\n",
              "      <th>time</th>\n",
              "      <th>open</th>\n",
              "      <th>high</th>\n",
              "      <th>low</th>\n",
              "      <th>close</th>\n",
              "    </tr>\n",
              "  </thead>\n",
              "  <tbody>\n",
              "    <tr>\n",
              "      <th>0</th>\n",
              "      <td>BANKNIFTY</td>\n",
              "      <td>20121203</td>\n",
              "      <td>09:16</td>\n",
              "      <td>12125.70</td>\n",
              "      <td>12161.70</td>\n",
              "      <td>12125.70</td>\n",
              "      <td>12160.95</td>\n",
              "    </tr>\n",
              "    <tr>\n",
              "      <th>1</th>\n",
              "      <td>BANKNIFTY</td>\n",
              "      <td>20121203</td>\n",
              "      <td>09:17</td>\n",
              "      <td>12161.75</td>\n",
              "      <td>12164.80</td>\n",
              "      <td>12130.40</td>\n",
              "      <td>12130.40</td>\n",
              "    </tr>\n",
              "    <tr>\n",
              "      <th>2</th>\n",
              "      <td>BANKNIFTY</td>\n",
              "      <td>20121203</td>\n",
              "      <td>09:18</td>\n",
              "      <td>12126.85</td>\n",
              "      <td>12156.10</td>\n",
              "      <td>12126.85</td>\n",
              "      <td>12156.10</td>\n",
              "    </tr>\n",
              "    <tr>\n",
              "      <th>3</th>\n",
              "      <td>BANKNIFTY</td>\n",
              "      <td>20121203</td>\n",
              "      <td>09:19</td>\n",
              "      <td>12157.25</td>\n",
              "      <td>12164.75</td>\n",
              "      <td>12151.60</td>\n",
              "      <td>12164.20</td>\n",
              "    </tr>\n",
              "    <tr>\n",
              "      <th>4</th>\n",
              "      <td>BANKNIFTY</td>\n",
              "      <td>20121203</td>\n",
              "      <td>09:20</td>\n",
              "      <td>12162.80</td>\n",
              "      <td>12162.80</td>\n",
              "      <td>12148.20</td>\n",
              "      <td>12151.15</td>\n",
              "    </tr>\n",
              "  </tbody>\n",
              "</table>\n",
              "</div>\n",
              "      <button class=\"colab-df-convert\" onclick=\"convertToInteractive('df-3e0a4631-0bbb-4a43-b163-f8c123b0e908')\"\n",
              "              title=\"Convert this dataframe to an interactive table.\"\n",
              "              style=\"display:none;\">\n",
              "        \n",
              "  <svg xmlns=\"http://www.w3.org/2000/svg\" height=\"24px\"viewBox=\"0 0 24 24\"\n",
              "       width=\"24px\">\n",
              "    <path d=\"M0 0h24v24H0V0z\" fill=\"none\"/>\n",
              "    <path d=\"M18.56 5.44l.94 2.06.94-2.06 2.06-.94-2.06-.94-.94-2.06-.94 2.06-2.06.94zm-11 1L8.5 8.5l.94-2.06 2.06-.94-2.06-.94L8.5 2.5l-.94 2.06-2.06.94zm10 10l.94 2.06.94-2.06 2.06-.94-2.06-.94-.94-2.06-.94 2.06-2.06.94z\"/><path d=\"M17.41 7.96l-1.37-1.37c-.4-.4-.92-.59-1.43-.59-.52 0-1.04.2-1.43.59L10.3 9.45l-7.72 7.72c-.78.78-.78 2.05 0 2.83L4 21.41c.39.39.9.59 1.41.59.51 0 1.02-.2 1.41-.59l7.78-7.78 2.81-2.81c.8-.78.8-2.07 0-2.86zM5.41 20L4 18.59l7.72-7.72 1.47 1.35L5.41 20z\"/>\n",
              "  </svg>\n",
              "      </button>\n",
              "      \n",
              "  <style>\n",
              "    .colab-df-container {\n",
              "      display:flex;\n",
              "      flex-wrap:wrap;\n",
              "      gap: 12px;\n",
              "    }\n",
              "\n",
              "    .colab-df-convert {\n",
              "      background-color: #E8F0FE;\n",
              "      border: none;\n",
              "      border-radius: 50%;\n",
              "      cursor: pointer;\n",
              "      display: none;\n",
              "      fill: #1967D2;\n",
              "      height: 32px;\n",
              "      padding: 0 0 0 0;\n",
              "      width: 32px;\n",
              "    }\n",
              "\n",
              "    .colab-df-convert:hover {\n",
              "      background-color: #E2EBFA;\n",
              "      box-shadow: 0px 1px 2px rgba(60, 64, 67, 0.3), 0px 1px 3px 1px rgba(60, 64, 67, 0.15);\n",
              "      fill: #174EA6;\n",
              "    }\n",
              "\n",
              "    [theme=dark] .colab-df-convert {\n",
              "      background-color: #3B4455;\n",
              "      fill: #D2E3FC;\n",
              "    }\n",
              "\n",
              "    [theme=dark] .colab-df-convert:hover {\n",
              "      background-color: #434B5C;\n",
              "      box-shadow: 0px 1px 3px 1px rgba(0, 0, 0, 0.15);\n",
              "      filter: drop-shadow(0px 1px 2px rgba(0, 0, 0, 0.3));\n",
              "      fill: #FFFFFF;\n",
              "    }\n",
              "  </style>\n",
              "\n",
              "      <script>\n",
              "        const buttonEl =\n",
              "          document.querySelector('#df-3e0a4631-0bbb-4a43-b163-f8c123b0e908 button.colab-df-convert');\n",
              "        buttonEl.style.display =\n",
              "          google.colab.kernel.accessAllowed ? 'block' : 'none';\n",
              "\n",
              "        async function convertToInteractive(key) {\n",
              "          const element = document.querySelector('#df-3e0a4631-0bbb-4a43-b163-f8c123b0e908');\n",
              "          const dataTable =\n",
              "            await google.colab.kernel.invokeFunction('convertToInteractive',\n",
              "                                                     [key], {});\n",
              "          if (!dataTable) return;\n",
              "\n",
              "          const docLinkHtml = 'Like what you see? Visit the ' +\n",
              "            '<a target=\"_blank\" href=https://colab.research.google.com/notebooks/data_table.ipynb>data table notebook</a>'\n",
              "            + ' to learn more about interactive tables.';\n",
              "          element.innerHTML = '';\n",
              "          dataTable['output_type'] = 'display_data';\n",
              "          await google.colab.output.renderOutput(dataTable, element);\n",
              "          const docLink = document.createElement('div');\n",
              "          docLink.innerHTML = docLinkHtml;\n",
              "          element.appendChild(docLink);\n",
              "        }\n",
              "      </script>\n",
              "    </div>\n",
              "  </div>\n",
              "  "
            ],
            "text/plain": [
              "       index      date   time      open      high       low     close\n",
              "0  BANKNIFTY  20121203  09:16  12125.70  12161.70  12125.70  12160.95\n",
              "1  BANKNIFTY  20121203  09:17  12161.75  12164.80  12130.40  12130.40\n",
              "2  BANKNIFTY  20121203  09:18  12126.85  12156.10  12126.85  12156.10\n",
              "3  BANKNIFTY  20121203  09:19  12157.25  12164.75  12151.60  12164.20\n",
              "4  BANKNIFTY  20121203  09:20  12162.80  12162.80  12148.20  12151.15"
            ]
          },
          "metadata": {},
          "execution_count": 34
        }
      ]
    },
    {
      "cell_type": "code",
      "source": [
        "df = df.drop(['index', 'time'], axis = 1)\n",
        "df.Date = pd.to_datetime(df['date'])\n",
        "df.set_index('date', inplace = True)\n",
        "df.head(5)"
      ],
      "metadata": {
        "colab": {
          "base_uri": "https://localhost:8080/",
          "height": 292
        },
        "id": "6zv_Yqw6kxig",
        "outputId": "8af01493-ff67-4dbb-bb80-bba7ec960360"
      },
      "execution_count": 35,
      "outputs": [
        {
          "output_type": "stream",
          "name": "stderr",
          "text": [
            "/usr/local/lib/python3.7/dist-packages/ipykernel_launcher.py:2: UserWarning: Pandas doesn't allow columns to be created via a new attribute name - see https://pandas.pydata.org/pandas-docs/stable/indexing.html#attribute-access\n",
            "  \n"
          ]
        },
        {
          "output_type": "execute_result",
          "data": {
            "text/html": [
              "\n",
              "  <div id=\"df-dec2fc1a-c215-4335-b183-5a150b638a80\">\n",
              "    <div class=\"colab-df-container\">\n",
              "      <div>\n",
              "<style scoped>\n",
              "    .dataframe tbody tr th:only-of-type {\n",
              "        vertical-align: middle;\n",
              "    }\n",
              "\n",
              "    .dataframe tbody tr th {\n",
              "        vertical-align: top;\n",
              "    }\n",
              "\n",
              "    .dataframe thead th {\n",
              "        text-align: right;\n",
              "    }\n",
              "</style>\n",
              "<table border=\"1\" class=\"dataframe\">\n",
              "  <thead>\n",
              "    <tr style=\"text-align: right;\">\n",
              "      <th></th>\n",
              "      <th>open</th>\n",
              "      <th>high</th>\n",
              "      <th>low</th>\n",
              "      <th>close</th>\n",
              "    </tr>\n",
              "    <tr>\n",
              "      <th>date</th>\n",
              "      <th></th>\n",
              "      <th></th>\n",
              "      <th></th>\n",
              "      <th></th>\n",
              "    </tr>\n",
              "  </thead>\n",
              "  <tbody>\n",
              "    <tr>\n",
              "      <th>20121203</th>\n",
              "      <td>12125.70</td>\n",
              "      <td>12161.70</td>\n",
              "      <td>12125.70</td>\n",
              "      <td>12160.95</td>\n",
              "    </tr>\n",
              "    <tr>\n",
              "      <th>20121203</th>\n",
              "      <td>12161.75</td>\n",
              "      <td>12164.80</td>\n",
              "      <td>12130.40</td>\n",
              "      <td>12130.40</td>\n",
              "    </tr>\n",
              "    <tr>\n",
              "      <th>20121203</th>\n",
              "      <td>12126.85</td>\n",
              "      <td>12156.10</td>\n",
              "      <td>12126.85</td>\n",
              "      <td>12156.10</td>\n",
              "    </tr>\n",
              "    <tr>\n",
              "      <th>20121203</th>\n",
              "      <td>12157.25</td>\n",
              "      <td>12164.75</td>\n",
              "      <td>12151.60</td>\n",
              "      <td>12164.20</td>\n",
              "    </tr>\n",
              "    <tr>\n",
              "      <th>20121203</th>\n",
              "      <td>12162.80</td>\n",
              "      <td>12162.80</td>\n",
              "      <td>12148.20</td>\n",
              "      <td>12151.15</td>\n",
              "    </tr>\n",
              "  </tbody>\n",
              "</table>\n",
              "</div>\n",
              "      <button class=\"colab-df-convert\" onclick=\"convertToInteractive('df-dec2fc1a-c215-4335-b183-5a150b638a80')\"\n",
              "              title=\"Convert this dataframe to an interactive table.\"\n",
              "              style=\"display:none;\">\n",
              "        \n",
              "  <svg xmlns=\"http://www.w3.org/2000/svg\" height=\"24px\"viewBox=\"0 0 24 24\"\n",
              "       width=\"24px\">\n",
              "    <path d=\"M0 0h24v24H0V0z\" fill=\"none\"/>\n",
              "    <path d=\"M18.56 5.44l.94 2.06.94-2.06 2.06-.94-2.06-.94-.94-2.06-.94 2.06-2.06.94zm-11 1L8.5 8.5l.94-2.06 2.06-.94-2.06-.94L8.5 2.5l-.94 2.06-2.06.94zm10 10l.94 2.06.94-2.06 2.06-.94-2.06-.94-.94-2.06-.94 2.06-2.06.94z\"/><path d=\"M17.41 7.96l-1.37-1.37c-.4-.4-.92-.59-1.43-.59-.52 0-1.04.2-1.43.59L10.3 9.45l-7.72 7.72c-.78.78-.78 2.05 0 2.83L4 21.41c.39.39.9.59 1.41.59.51 0 1.02-.2 1.41-.59l7.78-7.78 2.81-2.81c.8-.78.8-2.07 0-2.86zM5.41 20L4 18.59l7.72-7.72 1.47 1.35L5.41 20z\"/>\n",
              "  </svg>\n",
              "      </button>\n",
              "      \n",
              "  <style>\n",
              "    .colab-df-container {\n",
              "      display:flex;\n",
              "      flex-wrap:wrap;\n",
              "      gap: 12px;\n",
              "    }\n",
              "\n",
              "    .colab-df-convert {\n",
              "      background-color: #E8F0FE;\n",
              "      border: none;\n",
              "      border-radius: 50%;\n",
              "      cursor: pointer;\n",
              "      display: none;\n",
              "      fill: #1967D2;\n",
              "      height: 32px;\n",
              "      padding: 0 0 0 0;\n",
              "      width: 32px;\n",
              "    }\n",
              "\n",
              "    .colab-df-convert:hover {\n",
              "      background-color: #E2EBFA;\n",
              "      box-shadow: 0px 1px 2px rgba(60, 64, 67, 0.3), 0px 1px 3px 1px rgba(60, 64, 67, 0.15);\n",
              "      fill: #174EA6;\n",
              "    }\n",
              "\n",
              "    [theme=dark] .colab-df-convert {\n",
              "      background-color: #3B4455;\n",
              "      fill: #D2E3FC;\n",
              "    }\n",
              "\n",
              "    [theme=dark] .colab-df-convert:hover {\n",
              "      background-color: #434B5C;\n",
              "      box-shadow: 0px 1px 3px 1px rgba(0, 0, 0, 0.15);\n",
              "      filter: drop-shadow(0px 1px 2px rgba(0, 0, 0, 0.3));\n",
              "      fill: #FFFFFF;\n",
              "    }\n",
              "  </style>\n",
              "\n",
              "      <script>\n",
              "        const buttonEl =\n",
              "          document.querySelector('#df-dec2fc1a-c215-4335-b183-5a150b638a80 button.colab-df-convert');\n",
              "        buttonEl.style.display =\n",
              "          google.colab.kernel.accessAllowed ? 'block' : 'none';\n",
              "\n",
              "        async function convertToInteractive(key) {\n",
              "          const element = document.querySelector('#df-dec2fc1a-c215-4335-b183-5a150b638a80');\n",
              "          const dataTable =\n",
              "            await google.colab.kernel.invokeFunction('convertToInteractive',\n",
              "                                                     [key], {});\n",
              "          if (!dataTable) return;\n",
              "\n",
              "          const docLinkHtml = 'Like what you see? Visit the ' +\n",
              "            '<a target=\"_blank\" href=https://colab.research.google.com/notebooks/data_table.ipynb>data table notebook</a>'\n",
              "            + ' to learn more about interactive tables.';\n",
              "          element.innerHTML = '';\n",
              "          dataTable['output_type'] = 'display_data';\n",
              "          await google.colab.output.renderOutput(dataTable, element);\n",
              "          const docLink = document.createElement('div');\n",
              "          docLink.innerHTML = docLinkHtml;\n",
              "          element.appendChild(docLink);\n",
              "        }\n",
              "      </script>\n",
              "    </div>\n",
              "  </div>\n",
              "  "
            ],
            "text/plain": [
              "              open      high       low     close\n",
              "date                                            \n",
              "20121203  12125.70  12161.70  12125.70  12160.95\n",
              "20121203  12161.75  12164.80  12130.40  12130.40\n",
              "20121203  12126.85  12156.10  12126.85  12156.10\n",
              "20121203  12157.25  12164.75  12151.60  12164.20\n",
              "20121203  12162.80  12162.80  12148.20  12151.15"
            ]
          },
          "metadata": {},
          "execution_count": 35
        }
      ]
    },
    {
      "cell_type": "code",
      "source": [
        "df.isnull().sum()"
      ],
      "metadata": {
        "colab": {
          "base_uri": "https://localhost:8080/"
        },
        "id": "Oj8VDXs1lAl7",
        "outputId": "43e5bea6-1b26-497a-cb42-236c1368f1f0"
      },
      "execution_count": 36,
      "outputs": [
        {
          "output_type": "execute_result",
          "data": {
            "text/plain": [
              "open     0\n",
              "high     0\n",
              "low      0\n",
              "close    0\n",
              "dtype: int64"
            ]
          },
          "metadata": {},
          "execution_count": 36
        }
      ]
    },
    {
      "cell_type": "code",
      "source": [
        "sc = MinMaxScaler(feature_range=(0,1))\n",
        "\n",
        "def load_data(datasetname, column, seq_len):\n",
        "    # A support function to help prepare datasets for an RNN/LSTM/GRU\n",
        "    data = datasetname.loc[:,column]\n",
        "\n",
        "    sequence_length = seq_len + 1\n",
        "    result = []\n",
        "    for index in range(len(data) - sequence_length):\n",
        "        result.append(data[index: index + sequence_length])\n",
        "    \n",
        "    result = np.array(result)\n",
        "\n",
        "    #Last 10% is used for validation test, first 90% for training\n",
        "    row = round(0.9 * result.shape[0])\n",
        "    train = result[:int(row), :]\n",
        "    np.random.shuffle(train)\n",
        "    x_train = train[:, :-1]\n",
        "    y_train = train[:, -1]\n",
        "    x_test = result[int(row):, :-1]\n",
        "    y_test = result[int(row):, -1]\n",
        "\n",
        "    x_train = np.reshape(x_train, (x_train.shape[0], x_train.shape[1], 1))\n",
        "    x_test = np.reshape(x_test, (x_test.shape[0], x_test.shape[1], 1))  \n",
        "\n",
        "    return [x_train, y_train, x_test, y_test]"
      ],
      "metadata": {
        "id": "iMgKq8odlSLJ"
      },
      "execution_count": 37,
      "outputs": []
    },
    {
      "cell_type": "code",
      "source": [
        "X_train, Y_train, X_test, Y_test = load_data(df, 'close', 50)\n"
      ],
      "metadata": {
        "id": "brf3xR_ZlSxH"
      },
      "execution_count": 38,
      "outputs": []
    },
    {
      "cell_type": "code",
      "source": [
        "model=Sequential()\n",
        "\n",
        "model.add(LSTM(25, activation = 'relu', input_shape = (X_train.shape[1],1)))\n",
        "model.add(Dense(10))\n",
        "model.add(Dense(1))\n",
        "\n",
        "model.compile( loss = 'mean_squared_error', optimizer = 'adam')\n",
        "\n",
        "\n",
        "model.fit(X_train, Y_train, epochs=10, batch_size=32)"
      ],
      "metadata": {
        "colab": {
          "base_uri": "https://localhost:8080/"
        },
        "id": "wOsMSwdIlqCa",
        "outputId": "1e4aa323-c929-4579-f889-998b2122c94c"
      },
      "execution_count": 39,
      "outputs": [
        {
          "output_type": "stream",
          "name": "stdout",
          "text": [
            "Epoch 1/10\n",
            "10337/10337 [==============================] - 224s 22ms/step - loss: 26808870.0000\n",
            "Epoch 2/10\n",
            "10337/10337 [==============================] - 214s 21ms/step - loss: 121915.5234\n",
            "Epoch 3/10\n",
            "10337/10337 [==============================] - 212s 21ms/step - loss: 5103.1812\n",
            "Epoch 4/10\n",
            "10337/10337 [==============================] - 210s 20ms/step - loss: 4773.1304\n",
            "Epoch 5/10\n",
            "10337/10337 [==============================] - 211s 20ms/step - loss: 4937.9771\n",
            "Epoch 6/10\n",
            "10337/10337 [==============================] - 213s 21ms/step - loss: 4863.5410\n",
            "Epoch 7/10\n",
            "10337/10337 [==============================] - 211s 20ms/step - loss: 4824.7886\n",
            "Epoch 8/10\n",
            "10337/10337 [==============================] - 215s 21ms/step - loss: 4844.5688\n",
            "Epoch 9/10\n",
            "10337/10337 [==============================] - 213s 21ms/step - loss: 4783.0142\n",
            "Epoch 10/10\n",
            "10337/10337 [==============================] - 215s 21ms/step - loss: 4782.8643\n"
          ]
        },
        {
          "output_type": "execute_result",
          "data": {
            "text/plain": [
              "<keras.callbacks.History at 0x7f1243761fd0>"
            ]
          },
          "metadata": {},
          "execution_count": 39
        }
      ]
    },
    {
      "cell_type": "code",
      "source": [
        "prediction = model.predict(X_test)\n",
        "\n",
        "\n",
        "plt.plot(Y_test, label='Test Data') \n",
        "plt.plot(prediction, label='Prediction') \n",
        "plt.legend()\n",
        "plt.show() "
      ],
      "metadata": {
        "colab": {
          "base_uri": "https://localhost:8080/",
          "height": 265
        },
        "id": "W5J-38UAuWsl",
        "outputId": "8a9be258-87f4-42cc-bc07-fec1a9176b30"
      },
      "execution_count": 40,
      "outputs": [
        {
          "output_type": "display_data",
          "data": {
            "image/png": "[encoded data removed]",
            "text/plain": [
              "<Figure size 432x288 with 1 Axes>"
            ]
          },
          "metadata": {
            "needs_background": "light"
          }
        }
      ]
    }
  ]
}